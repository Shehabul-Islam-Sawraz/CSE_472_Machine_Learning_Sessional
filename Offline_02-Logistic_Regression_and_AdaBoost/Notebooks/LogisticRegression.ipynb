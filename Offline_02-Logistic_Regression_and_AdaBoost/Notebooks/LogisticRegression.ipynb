{
 "cells": [
  {
   "cell_type": "markdown",
   "metadata": {},
   "source": [
    "## Logistic Regression Implementation  \n"
   ]
  },
  {
   "cell_type": "code",
   "execution_count": null,
   "metadata": {},
   "outputs": [],
   "source": [
    "import numpy as np"
   ]
  },
  {
   "cell_type": "code",
   "execution_count": null,
   "metadata": {},
   "outputs": [],
   "source": [
    "def sigmoid(x):\n",
    "    return (np.exp(x) / (1 + np.exp(x)))"
   ]
  },
  {
   "cell_type": "code",
   "execution_count": 1,
   "metadata": {},
   "outputs": [],
   "source": [
    "\"\"\"\n",
    "    1.X.mean(axis=0): This calculates the mean value along each \n",
    "    column (axis=0) of the training set X. It computes the average \n",
    "    value for each feature.\n",
    "\n",
    "    2. X.std(axis=0): This calculates the standard deviation along \n",
    "    each column (axis=0) of the training set X. It computes how much \n",
    "    the values within each feature deviate from their mean.\n",
    "\n",
    "    3. (X - X.mean(axis=0)): This subtracts the mean of each feature \n",
    "    from every value in that feature's column. This centers the data \n",
    "    around zero.\n",
    "\n",
    "    4. Divide by X.std(axis=0): This division scales the centered \n",
    "    values by the standard deviation of each feature. It \n",
    "    standardizes the data, ensuring that each feature has a \n",
    "    variance of 1\n",
    "\"\"\"\n",
    "\n",
    "def normalize(X):\n",
    "    # standardizing to have zero mean and unit variance\n",
    "    return (X - X.mean(axis=0)) / X.std(axis=0)"
   ]
  },
  {
   "cell_type": "code",
   "execution_count": null,
   "metadata": {},
   "outputs": [],
   "source": [
    "def gradient_descent(x_train, y, y_predicted):\n",
    "    num_samples = x_train.shape[0]\n",
    "    dw = np.dot(x_train.T, (y - y_predicted) * y_predicted * (1 - y_predicted)) / num_samples\n",
    "    return dw"
   ]
  },
  {
   "cell_type": "code",
   "execution_count": null,
   "metadata": {},
   "outputs": [],
   "source": [
    "def compute_loss(x_train, y, w):\n",
    "    y_predicted = sigmoid(np.dot(x_train, w))\n",
    "    loss = - np.mean(y * np.log(y_predicted) + (1 - y) * np.log(1 - y_predicted))\n",
    "    return loss"
   ]
  },
  {
   "cell_type": "code",
   "execution_count": null,
   "metadata": {},
   "outputs": [],
   "source": [
    "def logistic_regression(x_train, y, epochs=1000, learning_rate=0.01, early_stopping_threshold=0):\n",
    "    num_samples, num_features = x_train.shape\n",
    "    \n",
    "    # Normalizing train set\n",
    "    x_train = normalize(x_train)\n",
    "    \n",
    "    # Initializing weights w to zero\n",
    "    # This will create a matrix of size (num_features + 1) X 1\n",
    "    w = np.zeros((num_features + 1, 1))\n",
    "    \n",
    "    # Add a column of 1s for the bias term\n",
    "    x_train = np.concatenate((x_train, np.ones((num_samples, 1))), axis=1)\n",
    "    \n",
    "    # Reshaping target y\n",
    "    y = y.reshape(num_samples, 1)\n",
    "    \n",
    "    for _ in range(epochs):\n",
    "        # Calculate hypothesis\n",
    "        y_predicted = sigmoid(np.dot(x_train, w))\n",
    "        \n",
    "        # Calculate gradients of loss with respect to weights w\n",
    "        dw = gradient_descent(x_train, y, y_predicted)\n",
    "        \n",
    "        # Updating parameters weights w\n",
    "        w += (learning_rate * dw)\n",
    "        \n",
    "        loss = compute_loss(x_train, y, w)\n",
    "        \n",
    "        # Early termination of gradient descent\n",
    "        if loss < early_stopping_threshold:\n",
    "            break\n",
    "    \n",
    "    return w"
   ]
  },
  {
   "cell_type": "code",
   "execution_count": null,
   "metadata": {},
   "outputs": [],
   "source": [
    "def predict(x_train, w):\n",
    "    num_samples = x_train.shape[0]\n",
    "    \n",
    "    # normalizing inputs X\n",
    "    x_train = normalize(x_train)\n",
    "    \n",
    "    # Add a column of 1s for the bias term\n",
    "    x_train = np.concatenate((x_train, np.ones((num_samples, 1))), axis=1)\n",
    "    \n",
    "    # Calculate hypothesis\n",
    "    y_predicted = sigmoid(np.dot(x_train, w))\n",
    "    \n",
    "    # Determining and storing predictions\n",
    "    predictions = [1 if y_pred >= 0.5 else 0 for y_pred in y_predicted]\n",
    "    \n",
    "    return np.array(predictions).reshape(num_samples, 1)"
   ]
  }
 ],
 "metadata": {
  "kernelspec": {
   "display_name": "Python 3",
   "language": "python",
   "name": "python3"
  },
  "language_info": {
   "codemirror_mode": {
    "name": "ipython",
    "version": 3
   },
   "file_extension": ".py",
   "mimetype": "text/x-python",
   "name": "python",
   "nbconvert_exporter": "python",
   "pygments_lexer": "ipython3",
   "version": "3.11.1"
  }
 },
 "nbformat": 4,
 "nbformat_minor": 2
}
